{
  "nbformat": 4,
  "nbformat_minor": 0,
  "metadata": {
    "colab": {
      "name": "split_up_the_customers_based_on_the_country.ipynb",
      "provenance": []
    },
    "kernelspec": {
      "display_name": "Python 3",
      "name": "python3"
    },
    "language_info": {
      "name": "python"
    }
  },
  "cells": [
    {
      "cell_type": "code",
      "metadata": {
        "id": "LTaQPkLAGv63"
      },
      "source": [
        "import pandas as pd\n",
        "import os"
      ],
      "execution_count": 5,
      "outputs": []
    },
    {
      "cell_type": "code",
      "metadata": {
        "colab": {
          "base_uri": "https://localhost:8080/"
        },
        "id": "Q6GhH19yGzDn",
        "outputId": "3193c2bc-4709-4541-e1ee-4c33fdb702f7"
      },
      "source": [
        "from google.colab import drive\n",
        "drive.mount('/content/gdrive')"
      ],
      "execution_count": 6,
      "outputs": [
        {
          "output_type": "stream",
          "text": [
            "Drive already mounted at /content/gdrive; to attempt to forcibly remount, call drive.mount(\"/content/gdrive\", force_remount=True).\n"
          ],
          "name": "stdout"
        }
      ]
    },
    {
      "cell_type": "code",
      "metadata": {
        "id": "l2SiSo2SGzGI"
      },
      "source": [
        "os.chdir(\"/content/gdrive/My Drive/Tableau\")"
      ],
      "execution_count": 7,
      "outputs": []
    },
    {
      "cell_type": "code",
      "metadata": {
        "colab": {
          "base_uri": "https://localhost:8080/",
          "height": 234
        },
        "id": "alV6lEYLGzI9",
        "outputId": "238435b4-729b-468b-95de-c8be32d187c5"
      },
      "source": [
        "df = pd.read_excel(\"customer_data _Sheet1.xlsx\",index_col=\"Customer open date\",parse_dates=True)\n",
        "df.head()"
      ],
      "execution_count": 8,
      "outputs": [
        {
          "output_type": "execute_result",
          "data": {
            "text/html": [
              "<div>\n",
              "<style scoped>\n",
              "    .dataframe tbody tr th:only-of-type {\n",
              "        vertical-align: middle;\n",
              "    }\n",
              "\n",
              "    .dataframe tbody tr th {\n",
              "        vertical-align: top;\n",
              "    }\n",
              "\n",
              "    .dataframe thead th {\n",
              "        text-align: right;\n",
              "    }\n",
              "</style>\n",
              "<table border=\"1\" class=\"dataframe\">\n",
              "  <thead>\n",
              "    <tr style=\"text-align: right;\">\n",
              "      <th></th>\n",
              "      <th>Customer Name</th>\n",
              "      <th>Customer ID</th>\n",
              "      <th>Last consulted date</th>\n",
              "      <th>Country</th>\n",
              "      <th>Vaccination type</th>\n",
              "      <th>State</th>\n",
              "      <th>Date of birth</th>\n",
              "      <th>Postal code</th>\n",
              "      <th>Active customer</th>\n",
              "    </tr>\n",
              "    <tr>\n",
              "      <th>Customer open date</th>\n",
              "      <th></th>\n",
              "      <th></th>\n",
              "      <th></th>\n",
              "      <th></th>\n",
              "      <th></th>\n",
              "      <th></th>\n",
              "      <th></th>\n",
              "      <th></th>\n",
              "      <th></th>\n",
              "    </tr>\n",
              "  </thead>\n",
              "  <tbody>\n",
              "    <tr>\n",
              "      <th>2011-01-27</th>\n",
              "      <td>Mechelle Stoneman</td>\n",
              "      <td>292494523</td>\n",
              "      <td>2011-02-12</td>\n",
              "      <td>Chad</td>\n",
              "      <td>Pfizer-BioNTech.</td>\n",
              "      <td>Alabama</td>\n",
              "      <td>2015-04-24</td>\n",
              "      <td>4484.0</td>\n",
              "      <td>A</td>\n",
              "    </tr>\n",
              "    <tr>\n",
              "      <th>2015-12-28</th>\n",
              "      <td>Tyesha Freitag</td>\n",
              "      <td>361825549</td>\n",
              "      <td>2016-01-23</td>\n",
              "      <td>Latvia</td>\n",
              "      <td>Moderna.</td>\n",
              "      <td>Alaska</td>\n",
              "      <td>2017-04-26</td>\n",
              "      <td>1075.0</td>\n",
              "      <td>A</td>\n",
              "    </tr>\n",
              "    <tr>\n",
              "      <th>2011-01-13</th>\n",
              "      <td>Dean Stoecker</td>\n",
              "      <td>141515767</td>\n",
              "      <td>2011-02-01</td>\n",
              "      <td>Pakistan</td>\n",
              "      <td>Johnson &amp; Johnson's Janssen.</td>\n",
              "      <td>Arizona</td>\n",
              "      <td>2010-11-16</td>\n",
              "      <td>6515.0</td>\n",
              "      <td>A</td>\n",
              "    </tr>\n",
              "    <tr>\n",
              "      <th>2012-09-11</th>\n",
              "      <td>Annelle Pickney</td>\n",
              "      <td>500364005</td>\n",
              "      <td>2012-10-06</td>\n",
              "      <td>Democratic Republic of the Congo</td>\n",
              "      <td>mRNA Vaccines.</td>\n",
              "      <td>Arkansas</td>\n",
              "      <td>2015-07-22</td>\n",
              "      <td>7683.0</td>\n",
              "      <td>A</td>\n",
              "    </tr>\n",
              "    <tr>\n",
              "      <th>2015-10-27</th>\n",
              "      <td>Margareta Tacy</td>\n",
              "      <td>127481591</td>\n",
              "      <td>2015-12-05</td>\n",
              "      <td>Czech Republic</td>\n",
              "      <td>Viral Vector Vaccines.</td>\n",
              "      <td>California</td>\n",
              "      <td>2014-02-17</td>\n",
              "      <td>3491.0</td>\n",
              "      <td>A</td>\n",
              "    </tr>\n",
              "  </tbody>\n",
              "</table>\n",
              "</div>"
            ],
            "text/plain": [
              "                        Customer Name  Customer ID  ... Postal code Active customer\n",
              "Customer open date                                  ...                            \n",
              "2011-01-27          Mechelle Stoneman    292494523  ...      4484.0               A\n",
              "2015-12-28             Tyesha Freitag    361825549  ...      1075.0               A\n",
              "2011-01-13              Dean Stoecker    141515767  ...      6515.0               A\n",
              "2012-09-11            Annelle Pickney    500364005  ...      7683.0               A\n",
              "2015-10-27             Margareta Tacy    127481591  ...      3491.0               A\n",
              "\n",
              "[5 rows x 9 columns]"
            ]
          },
          "metadata": {
            "tags": []
          },
          "execution_count": 8
        }
      ]
    },
    {
      "cell_type": "code",
      "metadata": {
        "colab": {
          "base_uri": "https://localhost:8080/"
        },
        "id": "_YOLAb3iNBL_",
        "outputId": "45626c4e-1de6-44fc-ea7f-27044fd903b4"
      },
      "source": [
        "df.isnull().sum()"
      ],
      "execution_count": 9,
      "outputs": [
        {
          "output_type": "execute_result",
          "data": {
            "text/plain": [
              "Customer Name          0\n",
              "Customer ID            0\n",
              "Last consulted date    1\n",
              "Country                1\n",
              "Vaccination type       1\n",
              "State                  1\n",
              "Date of birth          1\n",
              "Postal code            1\n",
              "Active customer        1\n",
              "dtype: int64"
            ]
          },
          "metadata": {
            "tags": []
          },
          "execution_count": 9
        }
      ]
    },
    {
      "cell_type": "code",
      "metadata": {
        "id": "5wGftpIzNE1l"
      },
      "source": [
        "df = df.dropna()"
      ],
      "execution_count": 10,
      "outputs": []
    },
    {
      "cell_type": "code",
      "metadata": {
        "colab": {
          "base_uri": "https://localhost:8080/"
        },
        "id": "fBDnHNtGNi1r",
        "outputId": "eeed97f0-c7d7-41fe-bc5d-3f42b8246af5"
      },
      "source": [
        "df.isnull().sum()"
      ],
      "execution_count": 11,
      "outputs": [
        {
          "output_type": "execute_result",
          "data": {
            "text/plain": [
              "Customer Name          0\n",
              "Customer ID            0\n",
              "Last consulted date    0\n",
              "Country                0\n",
              "Vaccination type       0\n",
              "State                  0\n",
              "Date of birth          0\n",
              "Postal code            0\n",
              "Active customer        0\n",
              "dtype: int64"
            ]
          },
          "metadata": {
            "tags": []
          },
          "execution_count": 11
        }
      ]
    },
    {
      "cell_type": "code",
      "metadata": {
        "colab": {
          "base_uri": "https://localhost:8080/"
        },
        "id": "Jg8O6Eb0Tt-j",
        "outputId": "c32d7919-2be8-45ce-99d9-6cbda3feb19b"
      },
      "source": [
        "country_name= df['Country'].unique()\n",
        "country_name"
      ],
      "execution_count": 12,
      "outputs": [
        {
          "output_type": "execute_result",
          "data": {
            "text/plain": [
              "array(['Chad', 'Latvia', 'Pakistan', 'Democratic Republic of the Congo',\n",
              "       'Czech Republic', 'South Africa', 'Laos', 'China', 'Eritrea',\n",
              "       'Haiti', 'Zambia', 'Bosnia and Herzegovina', 'Germany', 'India'],\n",
              "      dtype=object)"
            ]
          },
          "metadata": {
            "tags": []
          },
          "execution_count": 12
        }
      ]
    },
    {
      "cell_type": "code",
      "metadata": {
        "colab": {
          "base_uri": "https://localhost:8080/",
          "height": 682
        },
        "id": "RHoyDeGrJg18",
        "outputId": "544d2ad4-53d1-479c-c2d7-8691d2003943"
      },
      "source": [
        "input_country = str(input('Please enter the metioned country: '))\n",
        "for i in country_name:\n",
        "  if input_country ==i:\n",
        "    ii = df.loc[df['Country']==str(i)] \n",
        "    #print(ii)\n",
        "    display(ii)\n",
        "if input_country not in country_name:\n",
        "  print('Please enter correct country Name from list below' )\n",
        "  print(country_name)"
      ],
      "execution_count": 13,
      "outputs": [
        {
          "output_type": "stream",
          "text": [
            "Please enter the metioned country: India\n"
          ],
          "name": "stdout"
        },
        {
          "output_type": "display_data",
          "data": {
            "text/html": [
              "<div>\n",
              "<style scoped>\n",
              "    .dataframe tbody tr th:only-of-type {\n",
              "        vertical-align: middle;\n",
              "    }\n",
              "\n",
              "    .dataframe tbody tr th {\n",
              "        vertical-align: top;\n",
              "    }\n",
              "\n",
              "    .dataframe thead th {\n",
              "        text-align: right;\n",
              "    }\n",
              "</style>\n",
              "<table border=\"1\" class=\"dataframe\">\n",
              "  <thead>\n",
              "    <tr style=\"text-align: right;\">\n",
              "      <th></th>\n",
              "      <th>Customer Name</th>\n",
              "      <th>Customer ID</th>\n",
              "      <th>Last consulted date</th>\n",
              "      <th>Country</th>\n",
              "      <th>Vaccination type</th>\n",
              "      <th>State</th>\n",
              "      <th>Date of birth</th>\n",
              "      <th>Postal code</th>\n",
              "      <th>Active customer</th>\n",
              "    </tr>\n",
              "    <tr>\n",
              "      <th>Customer open date</th>\n",
              "      <th></th>\n",
              "      <th></th>\n",
              "      <th></th>\n",
              "      <th></th>\n",
              "      <th></th>\n",
              "      <th></th>\n",
              "      <th></th>\n",
              "      <th></th>\n",
              "      <th></th>\n",
              "    </tr>\n",
              "  </thead>\n",
              "  <tbody>\n",
              "    <tr>\n",
              "      <th>2016-08-27</th>\n",
              "      <td>Lacey Osier</td>\n",
              "      <td>151717174</td>\n",
              "      <td>2016-09-02</td>\n",
              "      <td>India</td>\n",
              "      <td>mRNA Vaccines.</td>\n",
              "      <td>Illinois</td>\n",
              "      <td>2012-06-23</td>\n",
              "      <td>5338.0</td>\n",
              "      <td>A</td>\n",
              "    </tr>\n",
              "    <tr>\n",
              "      <th>2013-10-24</th>\n",
              "      <td>Mara Elder</td>\n",
              "      <td>332936227</td>\n",
              "      <td>2013-12-03</td>\n",
              "      <td>India</td>\n",
              "      <td>mRNA Vaccines.</td>\n",
              "      <td>Nevada</td>\n",
              "      <td>2013-02-16</td>\n",
              "      <td>2083.0</td>\n",
              "      <td>N</td>\n",
              "    </tr>\n",
              "    <tr>\n",
              "      <th>2015-02-11</th>\n",
              "      <td>Genoveva Herrod</td>\n",
              "      <td>912333714</td>\n",
              "      <td>2015-03-02</td>\n",
              "      <td>India</td>\n",
              "      <td>Johnson &amp; Johnson's Janssen.</td>\n",
              "      <td>Tennessee</td>\n",
              "      <td>2010-10-30</td>\n",
              "      <td>8675.0</td>\n",
              "      <td>N</td>\n",
              "    </tr>\n",
              "    <tr>\n",
              "      <th>2014-04-12</th>\n",
              "      <td>Nova Boden</td>\n",
              "      <td>509828126</td>\n",
              "      <td>2014-04-15</td>\n",
              "      <td>India</td>\n",
              "      <td>Moderna.</td>\n",
              "      <td>Colorado</td>\n",
              "      <td>2010-09-07</td>\n",
              "      <td>8327.0</td>\n",
              "      <td>A</td>\n",
              "    </tr>\n",
              "    <tr>\n",
              "      <th>2011-05-12</th>\n",
              "      <td>Shaquana Emigh</td>\n",
              "      <td>353942859</td>\n",
              "      <td>2011-05-15</td>\n",
              "      <td>India</td>\n",
              "      <td>Pfizer-BioNTech.</td>\n",
              "      <td>Indiana</td>\n",
              "      <td>2015-11-02</td>\n",
              "      <td>8412.0</td>\n",
              "      <td>A</td>\n",
              "    </tr>\n",
              "    <tr>\n",
              "      <th>2014-11-13</th>\n",
              "      <td>Serafina Knoll</td>\n",
              "      <td>230407607</td>\n",
              "      <td>2014-12-20</td>\n",
              "      <td>India</td>\n",
              "      <td>Viral Vector Vaccines.</td>\n",
              "      <td>Nevada</td>\n",
              "      <td>2012-09-17</td>\n",
              "      <td>1586.0</td>\n",
              "      <td>A</td>\n",
              "    </tr>\n",
              "    <tr>\n",
              "      <th>2015-07-19</th>\n",
              "      <td>Karoline Felix</td>\n",
              "      <td>272820842</td>\n",
              "      <td>2015-08-20</td>\n",
              "      <td>India</td>\n",
              "      <td>mRNA Vaccines.</td>\n",
              "      <td>Tennessee</td>\n",
              "      <td>2011-12-29</td>\n",
              "      <td>2605.0</td>\n",
              "      <td>N</td>\n",
              "    </tr>\n",
              "    <tr>\n",
              "      <th>2017-01-11</th>\n",
              "      <td>Regenia Blish</td>\n",
              "      <td>983916938</td>\n",
              "      <td>2017-01-17</td>\n",
              "      <td>India</td>\n",
              "      <td>Johnson &amp; Johnson's Janssen.</td>\n",
              "      <td>Colorado</td>\n",
              "      <td>2015-06-04</td>\n",
              "      <td>1742.0</td>\n",
              "      <td>N</td>\n",
              "    </tr>\n",
              "    <tr>\n",
              "      <th>2017-04-12</th>\n",
              "      <td>Margarito Hintzen</td>\n",
              "      <td>391430270</td>\n",
              "      <td>2017-05-22</td>\n",
              "      <td>India</td>\n",
              "      <td>Moderna.</td>\n",
              "      <td>Maine</td>\n",
              "      <td>2011-07-01</td>\n",
              "      <td>1770.0</td>\n",
              "      <td>N</td>\n",
              "    </tr>\n",
              "    <tr>\n",
              "      <th>2016-02-23</th>\n",
              "      <td>Cedrick Agnew</td>\n",
              "      <td>348095214</td>\n",
              "      <td>2016-03-15</td>\n",
              "      <td>India</td>\n",
              "      <td>Pfizer-BioNTech.</td>\n",
              "      <td>North Carolina</td>\n",
              "      <td>2013-04-25</td>\n",
              "      <td>7964.0</td>\n",
              "      <td>A</td>\n",
              "    </tr>\n",
              "    <tr>\n",
              "      <th>2017-06-24</th>\n",
              "      <td>Sade Gasaway</td>\n",
              "      <td>349245774</td>\n",
              "      <td>2017-07-10</td>\n",
              "      <td>India</td>\n",
              "      <td>Viral Vector Vaccines.</td>\n",
              "      <td>Tennessee</td>\n",
              "      <td>2011-08-26</td>\n",
              "      <td>8440.0</td>\n",
              "      <td>A</td>\n",
              "    </tr>\n",
              "    <tr>\n",
              "      <th>2010-08-28</th>\n",
              "      <td>Narcisa Hsieh</td>\n",
              "      <td>562908399</td>\n",
              "      <td>2010-08-28</td>\n",
              "      <td>India</td>\n",
              "      <td>mRNA Vaccines.</td>\n",
              "      <td>Colorado</td>\n",
              "      <td>2017-01-08</td>\n",
              "      <td>5959.0</td>\n",
              "      <td>A</td>\n",
              "    </tr>\n",
              "    <tr>\n",
              "      <th>2010-09-30</th>\n",
              "      <td>Hal Bender</td>\n",
              "      <td>167324197</td>\n",
              "      <td>2010-10-27</td>\n",
              "      <td>India</td>\n",
              "      <td>Johnson &amp; Johnson's Janssen.</td>\n",
              "      <td>Maine</td>\n",
              "      <td>2014-09-01</td>\n",
              "      <td>3803.0</td>\n",
              "      <td>A</td>\n",
              "    </tr>\n",
              "    <tr>\n",
              "      <th>2014-10-07</th>\n",
              "      <td>Dian Cobian</td>\n",
              "      <td>227727544</td>\n",
              "      <td>2014-10-25</td>\n",
              "      <td>India</td>\n",
              "      <td>Moderna.</td>\n",
              "      <td>North Carolina</td>\n",
              "      <td>2014-11-06</td>\n",
              "      <td>8496.0</td>\n",
              "      <td>A</td>\n",
              "    </tr>\n",
              "    <tr>\n",
              "      <th>2014-01-17</th>\n",
              "      <td>Ozella Conner</td>\n",
              "      <td>234352815</td>\n",
              "      <td>2014-01-26</td>\n",
              "      <td>India</td>\n",
              "      <td>Pfizer-BioNTech.</td>\n",
              "      <td>Washington</td>\n",
              "      <td>2014-07-31</td>\n",
              "      <td>9061.0</td>\n",
              "      <td>A</td>\n",
              "    </tr>\n",
              "    <tr>\n",
              "      <th>2016-12-15</th>\n",
              "      <td>Gertrud Sather</td>\n",
              "      <td>802434384</td>\n",
              "      <td>2017-01-31</td>\n",
              "      <td>India</td>\n",
              "      <td>Viral Vector Vaccines.</td>\n",
              "      <td>Georgia</td>\n",
              "      <td>2012-10-07</td>\n",
              "      <td>7021.0</td>\n",
              "      <td>N</td>\n",
              "    </tr>\n",
              "    <tr>\n",
              "      <th>2013-01-13</th>\n",
              "      <td>Elva Hochmuth</td>\n",
              "      <td>300122725</td>\n",
              "      <td>2013-02-04</td>\n",
              "      <td>India</td>\n",
              "      <td>mRNA Vaccines.</td>\n",
              "      <td>Maine</td>\n",
              "      <td>2014-11-22</td>\n",
              "      <td>1839.0</td>\n",
              "      <td>N</td>\n",
              "    </tr>\n",
              "    <tr>\n",
              "      <th>2013-09-16</th>\n",
              "      <td>Chantel Absher</td>\n",
              "      <td>793854320</td>\n",
              "      <td>2013-10-03</td>\n",
              "      <td>India</td>\n",
              "      <td>Johnson &amp; Johnson's Janssen.</td>\n",
              "      <td>North Carolina</td>\n",
              "      <td>2013-12-07</td>\n",
              "      <td>7989.0</td>\n",
              "      <td>N</td>\n",
              "    </tr>\n",
              "    <tr>\n",
              "      <th>2012-08-02</th>\n",
              "      <td>Flora Plascencia</td>\n",
              "      <td>184393775</td>\n",
              "      <td>2012-09-08</td>\n",
              "      <td>India</td>\n",
              "      <td>Pfizer-BioNTech.</td>\n",
              "      <td>Washington</td>\n",
              "      <td>2014-07-09</td>\n",
              "      <td>5071.0</td>\n",
              "      <td>N</td>\n",
              "    </tr>\n",
              "  </tbody>\n",
              "</table>\n",
              "</div>"
            ],
            "text/plain": [
              "                        Customer Name  Customer ID  ... Postal code Active customer\n",
              "Customer open date                                  ...                            \n",
              "2016-08-27                Lacey Osier    151717174  ...      5338.0               A\n",
              "2013-10-24                 Mara Elder    332936227  ...      2083.0               N\n",
              "2015-02-11            Genoveva Herrod    912333714  ...      8675.0               N\n",
              "2014-04-12                 Nova Boden    509828126  ...      8327.0               A\n",
              "2011-05-12             Shaquana Emigh    353942859  ...      8412.0               A\n",
              "2014-11-13             Serafina Knoll    230407607  ...      1586.0               A\n",
              "2015-07-19             Karoline Felix    272820842  ...      2605.0               N\n",
              "2017-01-11              Regenia Blish    983916938  ...      1742.0               N\n",
              "2017-04-12          Margarito Hintzen    391430270  ...      1770.0               N\n",
              "2016-02-23              Cedrick Agnew    348095214  ...      7964.0               A\n",
              "2017-06-24               Sade Gasaway    349245774  ...      8440.0               A\n",
              "2010-08-28              Narcisa Hsieh    562908399  ...      5959.0               A\n",
              "2010-09-30                 Hal Bender    167324197  ...      3803.0               A\n",
              "2014-10-07                Dian Cobian    227727544  ...      8496.0               A\n",
              "2014-01-17              Ozella Conner    234352815  ...      9061.0               A\n",
              "2016-12-15             Gertrud Sather    802434384  ...      7021.0               N\n",
              "2013-01-13              Elva Hochmuth    300122725  ...      1839.0               N\n",
              "2013-09-16             Chantel Absher    793854320  ...      7989.0               N\n",
              "2012-08-02           Flora Plascencia    184393775  ...      5071.0               N\n",
              "\n",
              "[19 rows x 9 columns]"
            ]
          },
          "metadata": {
            "tags": []
          }
        }
      ]
    },
    {
      "cell_type": "code",
      "metadata": {
        "id": "eZptqlEJTtC0"
      },
      "source": [
        ""
      ],
      "execution_count": 13,
      "outputs": []
    }
  ]
}